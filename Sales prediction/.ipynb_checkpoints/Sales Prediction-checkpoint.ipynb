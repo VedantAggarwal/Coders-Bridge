{
 "cells": [
  {
   "cell_type": "code",
   "execution_count": 1,
   "id": "06c6c7d6-d031-4d8e-b88b-26c750f750f6",
   "metadata": {},
   "outputs": [],
   "source": [
    "import pandas as pd\n",
    "import numpy as np\n",
    "import matplotlib.pyplot as plt\n",
    "import seaborn as sns\n",
    "from sklearn import tree\n",
    "from sklearn.linear_model import LinearRegression\n",
    "from sklearn.model_selection import train_test_split\n",
    "from sklearn.metrics import accuracy_score, confusion_matrix,mean_absolute_error,mean_squared_error"
   ]
  },
  {
   "cell_type": "code",
   "execution_count": 2,
   "id": "9daa78e4-74b2-466d-bfbb-6185c8b2fc5f",
   "metadata": {},
   "outputs": [
    {
     "data": {
      "text/plain": [
       "(188340, 10)"
      ]
     },
     "execution_count": 2,
     "metadata": {},
     "output_type": "execute_result"
    }
   ],
   "source": [
    "train = pd.read_csv('TRAIN.csv')\n",
    "train.shape"
   ]
  },
  {
   "cell_type": "code",
   "execution_count": 3,
   "id": "59335f97-062a-4cf9-9e1b-f9a67beccf79",
   "metadata": {},
   "outputs": [
    {
     "data": {
      "text/html": [
       "<div>\n",
       "<style scoped>\n",
       "    .dataframe tbody tr th:only-of-type {\n",
       "        vertical-align: middle;\n",
       "    }\n",
       "\n",
       "    .dataframe tbody tr th {\n",
       "        vertical-align: top;\n",
       "    }\n",
       "\n",
       "    .dataframe thead th {\n",
       "        text-align: right;\n",
       "    }\n",
       "</style>\n",
       "<table border=\"1\" class=\"dataframe\">\n",
       "  <thead>\n",
       "    <tr style=\"text-align: right;\">\n",
       "      <th></th>\n",
       "      <th>ID</th>\n",
       "      <th>Store_id</th>\n",
       "      <th>Store_Type</th>\n",
       "      <th>Location_Type</th>\n",
       "      <th>Region_Code</th>\n",
       "      <th>Date</th>\n",
       "      <th>Holiday</th>\n",
       "      <th>Discount</th>\n",
       "      <th>#Order</th>\n",
       "      <th>Sales</th>\n",
       "    </tr>\n",
       "  </thead>\n",
       "  <tbody>\n",
       "    <tr>\n",
       "      <th>0</th>\n",
       "      <td>T1000001</td>\n",
       "      <td>1</td>\n",
       "      <td>S1</td>\n",
       "      <td>L3</td>\n",
       "      <td>R1</td>\n",
       "      <td>2018-01-01</td>\n",
       "      <td>1</td>\n",
       "      <td>Yes</td>\n",
       "      <td>9</td>\n",
       "      <td>7011.84</td>\n",
       "    </tr>\n",
       "    <tr>\n",
       "      <th>1</th>\n",
       "      <td>T1000002</td>\n",
       "      <td>253</td>\n",
       "      <td>S4</td>\n",
       "      <td>L2</td>\n",
       "      <td>R1</td>\n",
       "      <td>2018-01-01</td>\n",
       "      <td>1</td>\n",
       "      <td>Yes</td>\n",
       "      <td>60</td>\n",
       "      <td>51789.12</td>\n",
       "    </tr>\n",
       "    <tr>\n",
       "      <th>2</th>\n",
       "      <td>T1000003</td>\n",
       "      <td>252</td>\n",
       "      <td>S3</td>\n",
       "      <td>L2</td>\n",
       "      <td>R1</td>\n",
       "      <td>2018-01-01</td>\n",
       "      <td>1</td>\n",
       "      <td>Yes</td>\n",
       "      <td>42</td>\n",
       "      <td>36868.20</td>\n",
       "    </tr>\n",
       "    <tr>\n",
       "      <th>3</th>\n",
       "      <td>T1000004</td>\n",
       "      <td>251</td>\n",
       "      <td>S2</td>\n",
       "      <td>L3</td>\n",
       "      <td>R1</td>\n",
       "      <td>2018-01-01</td>\n",
       "      <td>1</td>\n",
       "      <td>Yes</td>\n",
       "      <td>23</td>\n",
       "      <td>19715.16</td>\n",
       "    </tr>\n",
       "    <tr>\n",
       "      <th>4</th>\n",
       "      <td>T1000005</td>\n",
       "      <td>250</td>\n",
       "      <td>S2</td>\n",
       "      <td>L3</td>\n",
       "      <td>R4</td>\n",
       "      <td>2018-01-01</td>\n",
       "      <td>1</td>\n",
       "      <td>Yes</td>\n",
       "      <td>62</td>\n",
       "      <td>45614.52</td>\n",
       "    </tr>\n",
       "    <tr>\n",
       "      <th>5</th>\n",
       "      <td>T1000006</td>\n",
       "      <td>249</td>\n",
       "      <td>S1</td>\n",
       "      <td>L3</td>\n",
       "      <td>R2</td>\n",
       "      <td>2018-01-01</td>\n",
       "      <td>1</td>\n",
       "      <td>Yes</td>\n",
       "      <td>39</td>\n",
       "      <td>34211.22</td>\n",
       "    </tr>\n",
       "    <tr>\n",
       "      <th>6</th>\n",
       "      <td>T1000007</td>\n",
       "      <td>248</td>\n",
       "      <td>S1</td>\n",
       "      <td>L1</td>\n",
       "      <td>R2</td>\n",
       "      <td>2018-01-01</td>\n",
       "      <td>1</td>\n",
       "      <td>Yes</td>\n",
       "      <td>40</td>\n",
       "      <td>35352.66</td>\n",
       "    </tr>\n",
       "    <tr>\n",
       "      <th>7</th>\n",
       "      <td>T1000008</td>\n",
       "      <td>247</td>\n",
       "      <td>S1</td>\n",
       "      <td>L1</td>\n",
       "      <td>R3</td>\n",
       "      <td>2018-01-01</td>\n",
       "      <td>1</td>\n",
       "      <td>Yes</td>\n",
       "      <td>64</td>\n",
       "      <td>52650.00</td>\n",
       "    </tr>\n",
       "    <tr>\n",
       "      <th>8</th>\n",
       "      <td>T1000009</td>\n",
       "      <td>246</td>\n",
       "      <td>S3</td>\n",
       "      <td>L1</td>\n",
       "      <td>R3</td>\n",
       "      <td>2018-01-01</td>\n",
       "      <td>1</td>\n",
       "      <td>Yes</td>\n",
       "      <td>62</td>\n",
       "      <td>42633.78</td>\n",
       "    </tr>\n",
       "    <tr>\n",
       "      <th>9</th>\n",
       "      <td>T1000010</td>\n",
       "      <td>254</td>\n",
       "      <td>S4</td>\n",
       "      <td>L1</td>\n",
       "      <td>R1</td>\n",
       "      <td>2018-01-01</td>\n",
       "      <td>1</td>\n",
       "      <td>Yes</td>\n",
       "      <td>87</td>\n",
       "      <td>62572.80</td>\n",
       "    </tr>\n",
       "  </tbody>\n",
       "</table>\n",
       "</div>"
      ],
      "text/plain": [
       "         ID  Store_id Store_Type Location_Type Region_Code        Date  \\\n",
       "0  T1000001         1         S1            L3          R1  2018-01-01   \n",
       "1  T1000002       253         S4            L2          R1  2018-01-01   \n",
       "2  T1000003       252         S3            L2          R1  2018-01-01   \n",
       "3  T1000004       251         S2            L3          R1  2018-01-01   \n",
       "4  T1000005       250         S2            L3          R4  2018-01-01   \n",
       "5  T1000006       249         S1            L3          R2  2018-01-01   \n",
       "6  T1000007       248         S1            L1          R2  2018-01-01   \n",
       "7  T1000008       247         S1            L1          R3  2018-01-01   \n",
       "8  T1000009       246         S3            L1          R3  2018-01-01   \n",
       "9  T1000010       254         S4            L1          R1  2018-01-01   \n",
       "\n",
       "   Holiday Discount  #Order     Sales  \n",
       "0        1      Yes       9   7011.84  \n",
       "1        1      Yes      60  51789.12  \n",
       "2        1      Yes      42  36868.20  \n",
       "3        1      Yes      23  19715.16  \n",
       "4        1      Yes      62  45614.52  \n",
       "5        1      Yes      39  34211.22  \n",
       "6        1      Yes      40  35352.66  \n",
       "7        1      Yes      64  52650.00  \n",
       "8        1      Yes      62  42633.78  \n",
       "9        1      Yes      87  62572.80  "
      ]
     },
     "execution_count": 3,
     "metadata": {},
     "output_type": "execute_result"
    }
   ],
   "source": [
    "train.head(10)"
   ]
  },
  {
   "cell_type": "code",
   "execution_count": 4,
   "id": "53800d6a-4a05-4c3b-854c-7331b6c5d3a5",
   "metadata": {},
   "outputs": [
    {
     "name": "stdout",
     "output_type": "stream",
     "text": [
      "<class 'pandas.core.frame.DataFrame'>\n",
      "RangeIndex: 188340 entries, 0 to 188339\n",
      "Data columns (total 10 columns):\n",
      " #   Column         Non-Null Count   Dtype  \n",
      "---  ------         --------------   -----  \n",
      " 0   ID             188340 non-null  object \n",
      " 1   Store_id       188340 non-null  int64  \n",
      " 2   Store_Type     188340 non-null  object \n",
      " 3   Location_Type  188340 non-null  object \n",
      " 4   Region_Code    188340 non-null  object \n",
      " 5   Date           188340 non-null  object \n",
      " 6   Holiday        188340 non-null  int64  \n",
      " 7   Discount       188340 non-null  object \n",
      " 8   #Order         188340 non-null  int64  \n",
      " 9   Sales          188340 non-null  float64\n",
      "dtypes: float64(1), int64(3), object(6)\n",
      "memory usage: 14.4+ MB\n"
     ]
    }
   ],
   "source": [
    "train.info()"
   ]
  },
  {
   "cell_type": "code",
   "execution_count": 5,
   "id": "ec8ac6e8-739d-4f41-9061-1166f4e373ac",
   "metadata": {},
   "outputs": [
    {
     "data": {
      "text/plain": [
       "count    188340.000000\n",
       "mean      42784.327982\n",
       "std       18456.708302\n",
       "min           0.000000\n",
       "25%       30426.000000\n",
       "50%       39678.000000\n",
       "75%       51909.000000\n",
       "max      247215.000000\n",
       "Name: Sales, dtype: float64"
      ]
     },
     "execution_count": 5,
     "metadata": {},
     "output_type": "execute_result"
    }
   ],
   "source": [
    "train['Sales'].describe()"
   ]
  },
  {
   "cell_type": "code",
   "execution_count": 6,
   "id": "2eff8c60-4e81-404f-a68d-1df13f16aad1",
   "metadata": {},
   "outputs": [
    {
     "data": {
      "text/plain": [
       "ID               0\n",
       "Store_id         0\n",
       "Store_Type       0\n",
       "Location_Type    0\n",
       "Region_Code      0\n",
       "Date             0\n",
       "Holiday          0\n",
       "Discount         0\n",
       "#Order           0\n",
       "Sales            0\n",
       "dtype: int64"
      ]
     },
     "execution_count": 6,
     "metadata": {},
     "output_type": "execute_result"
    }
   ],
   "source": [
    "train.isnull().sum()"
   ]
  },
  {
   "cell_type": "code",
   "execution_count": 7,
   "id": "000b393e-79ff-40ff-a8bc-7168b4187e36",
   "metadata": {},
   "outputs": [
    {
     "data": {
      "text/plain": [
       "0"
      ]
     },
     "execution_count": 7,
     "metadata": {},
     "output_type": "execute_result"
    }
   ],
   "source": [
    "train.duplicated().sum()"
   ]
  },
  {
   "cell_type": "code",
   "execution_count": 8,
   "id": "aa0cff09-544c-4321-8cc4-66ab88e25288",
   "metadata": {},
   "outputs": [
    {
     "data": {
      "text/plain": [
       "array(['S1', 'S4', 'S3', 'S2'], dtype=object)"
      ]
     },
     "execution_count": 8,
     "metadata": {},
     "output_type": "execute_result"
    }
   ],
   "source": [
    "train['Store_Type'].unique()"
   ]
  },
  {
   "cell_type": "code",
   "execution_count": 9,
   "id": "e4389267-6e19-4891-90b3-1e9ff5f7f755",
   "metadata": {},
   "outputs": [],
   "source": [
    "train['Store_Type'] = train['Store_Type'].map({'S1':1, 'S2':2, 'S3':3, 'S4':4})"
   ]
  },
  {
   "cell_type": "code",
   "execution_count": 10,
   "id": "ed33b396-aa64-4d92-9be2-43c3d5e74855",
   "metadata": {},
   "outputs": [
    {
     "data": {
      "text/plain": [
       "array(['L3', 'L2', 'L1', 'L5', 'L4'], dtype=object)"
      ]
     },
     "execution_count": 10,
     "metadata": {},
     "output_type": "execute_result"
    }
   ],
   "source": [
    "train['Location_Type'].unique()"
   ]
  },
  {
   "cell_type": "code",
   "execution_count": 11,
   "id": "6437d655-c515-4fb5-b1f1-e3b667ef22f1",
   "metadata": {},
   "outputs": [],
   "source": [
    "train['Location_Type'] = train['Location_Type'].map({'L1':1, 'L2':2, 'L3':3, 'L4':4, 'L5':5})"
   ]
  },
  {
   "cell_type": "code",
   "execution_count": 12,
   "id": "9032f3ce-056f-41bf-a2fb-de1d6778fef9",
   "metadata": {},
   "outputs": [
    {
     "data": {
      "text/plain": [
       "array(['R1', 'R4', 'R2', 'R3'], dtype=object)"
      ]
     },
     "execution_count": 12,
     "metadata": {},
     "output_type": "execute_result"
    }
   ],
   "source": [
    "train['Region_Code'].unique()"
   ]
  },
  {
   "cell_type": "code",
   "execution_count": 13,
   "id": "9d6315a7-fc85-4b94-811a-7094c23d2472",
   "metadata": {},
   "outputs": [],
   "source": [
    "train['Region_Code'] = train['Region_Code'].map({'R1':1, 'R2':2, 'R3':3, 'R4':4})"
   ]
  },
  {
   "cell_type": "code",
   "execution_count": 14,
   "id": "2426d625-9630-4ef6-82b5-15ddc65d124f",
   "metadata": {},
   "outputs": [
    {
     "data": {
      "text/plain": [
       "array(['Yes', 'No'], dtype=object)"
      ]
     },
     "execution_count": 14,
     "metadata": {},
     "output_type": "execute_result"
    }
   ],
   "source": [
    "train['Discount'].unique()"
   ]
  },
  {
   "cell_type": "code",
   "execution_count": 15,
   "id": "b12f4255-0b7c-42d6-b2de-cef479774684",
   "metadata": {},
   "outputs": [],
   "source": [
    "train['Discount'] = train['Discount'].map({'No':0, 'Yes':1})"
   ]
  },
  {
   "cell_type": "code",
   "execution_count": null,
   "id": "523e9c9f-8c9a-4701-89da-25cb52aae2b4",
   "metadata": {},
   "outputs": [],
   "source": [
    "test = pd.read_csv('TEST.csv')\n",
    "test.shape"
   ]
  },
  {
   "cell_type": "code",
   "execution_count": null,
   "id": "df6c57fa-584f-43a9-837d-044b84c4704d",
   "metadata": {},
   "outputs": [],
   "source": [
    "train.head(10)"
   ]
  },
  {
   "cell_type": "code",
   "execution_count": null,
   "id": "aece03f6-2bd4-40ab-a65c-7809d66c86a9",
   "metadata": {},
   "outputs": [],
   "source": [
    "train.info()"
   ]
  },
  {
   "cell_type": "code",
   "execution_count": null,
   "id": "2ddfc615-2f77-44d2-b63a-5e5b4516143c",
   "metadata": {},
   "outputs": [],
   "source": [
    "train['Sales'].describe()"
   ]
  },
  {
   "cell_type": "code",
   "execution_count": null,
   "id": "b889e123-3a66-493f-b1bd-1f119115b66a",
   "metadata": {},
   "outputs": [],
   "source": [
    "train.isnull().sum()"
   ]
  },
  {
   "cell_type": "code",
   "execution_count": null,
   "id": "2f475c4a-b7ca-4783-bcfb-f2ca88fe30b7",
   "metadata": {},
   "outputs": [],
   "source": [
    "train.duplicated().sum()"
   ]
  },
  {
   "cell_type": "code",
   "execution_count": null,
   "id": "54f444a0-01ef-45de-bc4c-74a02a429ca3",
   "metadata": {},
   "outputs": [],
   "source": [
    "train['Store_Type'].unique()"
   ]
  },
  {
   "cell_type": "code",
   "execution_count": null,
   "id": "b8965a66-7c1f-4c1c-a804-750fb30987ef",
   "metadata": {},
   "outputs": [],
   "source": [
    "train['Store_Type'] = train['Store_Type'].map({'S1':1, 'S2':2, 'S3':3, 'S4':4})"
   ]
  },
  {
   "cell_type": "code",
   "execution_count": null,
   "id": "3662f4cd-b6bf-4a9b-a5a6-2a1a8e4cf4d1",
   "metadata": {},
   "outputs": [],
   "source": [
    "train['Location_Type'].unique()"
   ]
  },
  {
   "cell_type": "code",
   "execution_count": null,
   "id": "d79003b8-da2c-4c01-9f9c-2adbd2b5918a",
   "metadata": {},
   "outputs": [],
   "source": [
    "train['Location_Type'] = train['Location_Type'].map({'L1':1, 'L2':2, 'L3':3, 'L4':4, 'L5':5})"
   ]
  },
  {
   "cell_type": "code",
   "execution_count": null,
   "id": "115898b0-51fa-4176-8a8a-41cef407ad72",
   "metadata": {},
   "outputs": [],
   "source": [
    "train['Region_Code'].unique()"
   ]
  },
  {
   "cell_type": "code",
   "execution_count": null,
   "id": "b2a15926-3f32-44a4-b525-a73d67108a7b",
   "metadata": {},
   "outputs": [],
   "source": [
    "train['Region_Code'] = train['Region_Code'].map({'R1':1, 'R2':2, 'R3':3, 'R4':4})"
   ]
  },
  {
   "cell_type": "code",
   "execution_count": null,
   "id": "4d9d0c7c-6348-4098-9b81-3ccc68a44fb3",
   "metadata": {},
   "outputs": [],
   "source": [
    "train['Discount'].unique()"
   ]
  },
  {
   "cell_type": "code",
   "execution_count": null,
   "id": "81c60deb-0e09-456c-a34f-6831216cdc68",
   "metadata": {},
   "outputs": [],
   "source": [
    "train['Discount'] = train['Discount'].map({'No':0, 'Yes':1})"
   ]
  }
 ],
 "metadata": {
  "kernelspec": {
   "display_name": "Python 3 (ipykernel)",
   "language": "python",
   "name": "python3"
  },
  "language_info": {
   "codemirror_mode": {
    "name": "ipython",
    "version": 3
   },
   "file_extension": ".py",
   "mimetype": "text/x-python",
   "name": "python",
   "nbconvert_exporter": "python",
   "pygments_lexer": "ipython3",
   "version": "3.11.5"
  }
 },
 "nbformat": 4,
 "nbformat_minor": 5
}
